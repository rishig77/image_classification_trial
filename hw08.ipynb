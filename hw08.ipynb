{
 "cells": [
  {
   "cell_type": "code",
   "execution_count": 5,
   "id": "57c65a33",
   "metadata": {
    "deletable": false,
    "editable": false
   },
   "outputs": [],
   "source": [
    "# Initialize Otter\n",
    "import otter\n",
    "grader = otter.Notebook(\"hw08.ipynb\")"
   ]
  },
  {
   "cell_type": "markdown",
   "id": "125dfc5a",
   "metadata": {},
   "source": [
    "# Homework 8: Linear Regression"
   ]
  },
  {
   "cell_type": "markdown",
   "id": "7b9406ca",
   "metadata": {},
   "source": [
    "**Helpful Resource:**\n",
    "\n",
    "- [Python Reference](http://data8.org/sp22/python-reference.html): Cheat sheet of helpful array & table methods used in *Foundations of Data Science*\n",
    "\n",
    "**Recommended Readings**: \n",
    "\n",
    "* [The Regression Line](https://www.inferentialthinking.com/chapters/15/2/Regression_Line.html)\n",
    "* [Method of Least Squares](https://www.inferentialthinking.com/chapters/15/3/Method_of_Least_Squares.html)\n",
    "* [Least Squares Regression](https://www.inferentialthinking.com/chapters/15/4/Least_Squares_Regression.html)"
   ]
  },
  {
   "cell_type": "markdown",
   "id": "f18f280f",
   "metadata": {},
   "source": [
    "For all problems that you must write explanations and sentences for, you **must** provide your answer in the designated space. Moreover, throughout this homework and all future ones, please be sure to not re-assign variables throughout the notebook! For example, if you use `max_temperature` in your answer to one question, do not reassign it later on. Otherwise, you will fail tests that you thought you were passing previously!\n",
    "\n",
    "**Note: This homework has hidden tests on it. Additional tests will be run once your homework is submitted for grading. While you may pass all the tests you have access to before submission, you may not earn full credit if you do not pass the hidden tests as well.**. \n",
    "\n",
    "Many of the tests you have access to before submitting only test to ensure you have given an answer that is formatted correctly and/or you have given an answer that *could* make sense in context. For example, a test you have access to while completing the assignment may check that you selected a valid choice for a multiple choice problem (1, 2, or 3) or that your answer is an integer between 0 and 50 if asked to count a subset of states in the United States. The tests that are run after submission will evaluate your work for accuracy. **Do not assume that just because all your tests pass before submission means that your answers are correct!**\n",
    "\n",
    "Consult with your teacher and course syllabus for information and policies regarding appropriate collaboration with other students, appropriate use of AI tools, and submission of late work."
   ]
  },
  {
   "cell_type": "code",
   "execution_count": 6,
   "id": "a5f07ee9",
   "metadata": {},
   "outputs": [],
   "source": [
    "# Run this cell to set up the notebook, but please don't change it.\n",
    "\n",
    "import numpy as np\n",
    "from datascience import *\n",
    "\n",
    "# These lines do some fancy plotting magic.\n",
    "import matplotlib\n",
    "%matplotlib inline\n",
    "import matplotlib.pyplot as plt\n",
    "plt.style.use('fivethirtyeight')\n",
    "from datetime import datetime"
   ]
  },
  {
   "cell_type": "markdown",
   "id": "6cb47ec8",
   "metadata": {},
   "source": [
    "## 1. Triple Jump Distances vs. Vertical Jump Heights "
   ]
  },
  {
   "cell_type": "markdown",
   "id": "b3827e84",
   "metadata": {},
   "source": [
    "Does skill in one sport imply skill in a related sport?  The answer might be different for different activities. Let's find out whether it's true for the [triple jump](https://en.wikipedia.org/wiki/Triple_jump) (a horizontal jump similar to a long jump) and the [vertical jump](https://en.wikipedia.org/wiki/Vertical_jump).  Since we're learning about linear regression, we will look specifically for a *linear* association between skill level in the two sports.\n",
    "\n",
    "The following data was collected by observing 40 collegiate-level soccer players. Each athlete's distances in both events were **measured in centimeters**. Run the cell below to load the data."
   ]
  },
  {
   "cell_type": "code",
   "execution_count": 7,
   "id": "e40f06e9",
   "metadata": {
    "ExecuteTime": {
     "end_time": "2018-04-03T22:42:22.463984Z",
     "start_time": "2018-04-03T22:42:22.455963Z"
    }
   },
   "outputs": [
    {
     "data": {
      "text/html": [
       "<table border=\"1\" class=\"dataframe\">\n",
       "    <thead>\n",
       "        <tr>\n",
       "            <th>triple</th> <th>vertical</th>\n",
       "        </tr>\n",
       "    </thead>\n",
       "    <tbody>\n",
       "        <tr>\n",
       "            <td>383   </td> <td>33      </td>\n",
       "        </tr>\n",
       "        <tr>\n",
       "            <td>781   </td> <td>71.1    </td>\n",
       "        </tr>\n",
       "        <tr>\n",
       "            <td>561.62</td> <td>62.25   </td>\n",
       "        </tr>\n",
       "        <tr>\n",
       "            <td>624.52</td> <td>61.33   </td>\n",
       "        </tr>\n",
       "        <tr>\n",
       "            <td>446.24</td> <td>40.19   </td>\n",
       "        </tr>\n",
       "        <tr>\n",
       "            <td>515.3 </td> <td>38.96   </td>\n",
       "        </tr>\n",
       "        <tr>\n",
       "            <td>449.22</td> <td>39.69   </td>\n",
       "        </tr>\n",
       "        <tr>\n",
       "            <td>560.91</td> <td>46.51   </td>\n",
       "        </tr>\n",
       "        <tr>\n",
       "            <td>519.12</td> <td>37.68   </td>\n",
       "        </tr>\n",
       "        <tr>\n",
       "            <td>595.38</td> <td>53.48   </td>\n",
       "        </tr>\n",
       "    </tbody>\n",
       "</table>\n",
       "<p>... (30 rows omitted)</p>"
      ],
      "text/plain": [
       "triple | vertical\n",
       "383    | 33\n",
       "781    | 71.1\n",
       "561.62 | 62.25\n",
       "624.52 | 61.33\n",
       "446.24 | 40.19\n",
       "515.3  | 38.96\n",
       "449.22 | 39.69\n",
       "560.91 | 46.51\n",
       "519.12 | 37.68\n",
       "595.38 | 53.48\n",
       "... (30 rows omitted)"
      ]
     },
     "execution_count": 7,
     "metadata": {},
     "output_type": "execute_result"
    }
   ],
   "source": [
    "# Run this cell to load the data\n",
    "jumps = Table.read_table('triple_vertical.csv')\n",
    "jumps"
   ]
  },
  {
   "cell_type": "markdown",
   "id": "93b8d4fc",
   "metadata": {
    "deletable": false,
    "editable": false
   },
   "source": [
    "### Question 1.1.\n",
    "\n",
    "Create a function `standard_units` that accepts an array, which will be assigned to the variable `data`, and returns an array of the values in `data` that have been converted to standard units."
   ]
  },
  {
   "cell_type": "code",
   "execution_count": 8,
   "id": "ca36a774",
   "metadata": {
    "tags": []
   },
   "outputs": [],
   "source": [
    "def standard_units(data):\n",
    "    return (data -np.mean(data)) /np.std(data)"
   ]
  },
  {
   "cell_type": "code",
   "execution_count": 9,
   "id": "e9016e7c",
   "metadata": {
    "deletable": false,
    "editable": false
   },
   "outputs": [
    {
     "data": {
      "text/html": [
       "<p><strong><pre style='display: inline;'>q1_1</pre></strong> passed! 💯</p><p><strong><pre style='display: inline;'>q1_1 - 1</pre> message:</strong> ✅ `standard_units` returns an array with a mean of 0</p><p><strong><pre style='display: inline;'>q1_1 - 2</pre> message:</strong> ✅ `standard_units` returns an array with a standard deviation of 1</p><p><strong><pre style='display: inline;'>q1_1 - 3</pre> message:</strong> ✅ `standard_units` returns correct values for the array [1,2,3,4,5]</p>"
      ],
      "text/plain": [
       "q1_1 results: All test cases passed!\n",
       "q1_1 - 1 message: ✅ `standard_units` returns an array with a mean of 0\n",
       "q1_1 - 2 message: ✅ `standard_units` returns an array with a standard deviation of 1\n",
       "q1_1 - 3 message: ✅ `standard_units` returns correct values for the array [1,2,3,4,5]"
      ]
     },
     "execution_count": 9,
     "metadata": {},
     "output_type": "execute_result"
    }
   ],
   "source": [
    "grader.check(\"q1_1\")"
   ]
  },
  {
   "cell_type": "markdown",
   "id": "14bbd47b",
   "metadata": {
    "deletable": false,
    "editable": false
   },
   "source": [
    "### Question 1.2.\n",
    "Using the `standard_units` function, define the function `correlation` which accepts two arrays which will be assigned to `x` and `y`, and computes and returns the correlation between the values in `x` and `y`."
   ]
  },
  {
   "cell_type": "code",
   "execution_count": 12,
   "id": "e85d3b6a",
   "metadata": {
    "tags": []
   },
   "outputs": [],
   "source": [
    "def correlation(x, y):\n",
    "    xstandard_units = standard_units(x)\n",
    "    ystandard_units = standard_units(y)\n",
    "    return np.mean(xstandard_units * ystandard_units)"
   ]
  },
  {
   "cell_type": "code",
   "execution_count": 13,
   "id": "71b1d184",
   "metadata": {
    "deletable": false,
    "editable": false
   },
   "outputs": [
    {
     "data": {
      "text/html": [
       "<p><strong><pre style='display: inline;'>q1_2</pre></strong> passed! 🙌</p><p><strong><pre style='display: inline;'>q1_2 - 1</pre> message:</strong> ✅ `correlation` returns a correct value for the first test case</p><p><strong><pre style='display: inline;'>q1_2 - 2</pre> message:</strong> ✅ `correlation` returns a correct value for the second test case</p>"
      ],
      "text/plain": [
       "q1_2 results: All test cases passed!\n",
       "q1_2 - 1 message: ✅ `correlation` returns a correct value for the first test case\n",
       "q1_2 - 2 message: ✅ `correlation` returns a correct value for the second test case"
      ]
     },
     "execution_count": 13,
     "metadata": {},
     "output_type": "execute_result"
    }
   ],
   "source": [
    "grader.check(\"q1_2\")"
   ]
  },
  {
   "cell_type": "markdown",
   "id": "0a20bebf",
   "metadata": {
    "deletable": false,
    "editable": false
   },
   "source": [
    "<!-- BEGIN QUESTION -->\n",
    "\n",
    "### Question 1.3.\n",
    "Before running a regression, it's important to visually inspect the data as our eyes are good at picking out unusual patterns in data.  Create a scatter plot, **that includes the regression line**, with the triple jump distances on the horizontal axis and the vertical jump heights on vertical axis.\n",
    "\n",
    "*Hint:* The `fit_line` argument may be useful here! See the documentation on `scatter` [here](http://data8.org/datascience/_autosummary/datascience.tables.Table.scatter.html#datascience.tables.Table.scatter) for instructions on how to have Python draw the regression line automatically."
   ]
  },
  {
   "cell_type": "code",
   "execution_count": 14,
   "id": "37d07381",
   "metadata": {
    "ExecuteTime": {
     "end_time": "2018-04-03T07:28:04.288689Z",
     "start_time": "2018-04-03T07:28:04.108660Z"
    },
    "deletable": false,
    "manual_problem_id": "jumping_1",
    "tags": []
   },
   "outputs": [
    {
     "data": {
      "image/png": "[encoded data removed]",
      "text/plain": [
       "<Figure size 500x500 with 1 Axes>"
      ]
     },
     "metadata": {},
     "output_type": "display_data"
    }
   ],
   "source": [
    "jumps.scatter('triple', 'vertical', fit_line=True)"
   ]
  },
  {
   "cell_type": "markdown",
   "id": "41944afd",
   "metadata": {
    "deletable": false,
    "editable": false
   },
   "source": [
    "<!-- END QUESTION -->\n",
    "\n",
    "<!-- BEGIN QUESTION -->\n",
    "\n",
    "### Question 1.4.\n",
    "\n",
    "Using the scatter plot and regression line in the previous question, estimate the correlation coefficient $r$. Explain what visual characteristics led to your estimation."
   ]
  },
  {
   "cell_type": "markdown",
   "id": "99a40691",
   "metadata": {},
   "source": [
    "_Given the close clustering of points around the regression line and the positive slope, the correlation coefficient r can be estimated to be around 0.7. The points are somewhat close the line and there aren't significant outliers._"
   ]
  },
  {
   "cell_type": "markdown",
   "id": "aadb07bb",
   "metadata": {
    "deletable": false,
    "editable": false
   },
   "source": [
    "<!-- END QUESTION -->\n",
    "\n",
    "### Question 1.5.\n",
    "Create a function called `parameter_estimates` that takes in the argument `tbl`, a two-column table where the first column will be considered x-values and the second column will be considered y-values. The function should return an array with three elements: \n",
    "\n",
    "1. **correlation coefficient** of the two variables\n",
    "2. the **slope** and\n",
    "3. the **intercept** of the regression line that predicts the second column from the first, in original units.\n",
    "\n",
    "The provided code will construct and return the array that contains `r`, `slope`, and `intercept`. You only need to compute the values in the body of the function.\n",
    "\n",
    "*Hint:* This is a rare occasion where it's better to implement the function using column indices (e.g. `tbl.column(0)` instead of column names (e.g. `tbl.column('triple')`). Using indices allows you to call this function on any table, since you aren't making reference to labels that are specific to any one Table. If you need a reminder about how to use column indices to pull out individual columns, please refer to [this](https://www.inferentialthinking.com/chapters/06/Tables.html#accessing-the-data-in-a-column) section of the textbook."
   ]
  },
  {
   "cell_type": "code",
   "execution_count": 15,
   "id": "d0c75233",
   "metadata": {
    "ExecuteTime": {
     "end_time": "2018-04-03T22:42:28.451495Z",
     "start_time": "2018-04-03T22:42:28.441469Z"
    },
    "for_assignment_type": "solution",
    "tags": []
   },
   "outputs": [
    {
     "name": "stdout",
     "output_type": "stream",
     "text": [
      "r: 0.8343076972837598 ; slope: 0.09295728160512184 ; intercept: -1.566520972963474\n"
     ]
    }
   ],
   "source": [
    "def parameter_estimates(tbl):\n",
    "    x = tbl.column(0)\n",
    "    y = tbl.column(1)\n",
    "    r = correlation(x, y)\n",
    "    slope = r * (np.std(y) / np.std(x))\n",
    "    intercept = np.mean(y) - slope * np.mean(x)\n",
    "    return make_array(r, slope, intercept)\n",
    "\n",
    "parameters = parameter_estimates(jumps) \n",
    "print('r:', parameters.item(0), '; slope:', parameters.item(1), '; intercept:', parameters.item(2))"
   ]
  },
  {
   "cell_type": "code",
   "execution_count": 16,
   "id": "b217c7c7",
   "metadata": {
    "deletable": false,
    "editable": false
   },
   "outputs": [
    {
     "data": {
      "text/html": [
       "<p><strong><pre style='display: inline;'>q1_5</pre></strong> passed! 🙌</p><p><strong><pre style='display: inline;'>q1_5 - 1</pre> message:</strong> ✅ `parameters` is an array</p><p><strong><pre style='display: inline;'>q1_5 - 2</pre> message:</strong> ✅ `parameters` contains all 3 elements</p><p><strong><pre style='display: inline;'>q1_5 - 3</pre> message:</strong> ✅ `parameters` is computing the correlation coefficient correctly</p>"
      ],
      "text/plain": [
       "q1_5 results: All test cases passed!\n",
       "q1_5 - 1 message: ✅ `parameters` is an array\n",
       "q1_5 - 2 message: ✅ `parameters` contains all 3 elements\n",
       "q1_5 - 3 message: ✅ `parameters` is computing the correlation coefficient correctly"
      ]
     },
     "execution_count": 16,
     "metadata": {},
     "output_type": "execute_result"
    }
   ],
   "source": [
    "grader.check(\"q1_5\")"
   ]
  },
  {
   "cell_type": "markdown",
   "id": "2779f25b",
   "metadata": {
    "deletable": false,
    "editable": false
   },
   "source": [
    "### Question 1.6.\n",
    "\n",
    "Use the values contained in the `parameters` array to predict what an athlete's vertical jump height would be given their triple jump distance.\n",
    "\n",
    "The world record for the triple jump distance is 18.29 *meters* by Johnathan Edwards. Assign the prediction from the regression line for Edwards' vertical to `triple_record_vert_est`. Your prediction should be in centimeters.\n",
    "\n",
    "*Hint:* Make sure to convert from meters to centimeters!"
   ]
  },
  {
   "cell_type": "code",
   "execution_count": 17,
   "id": "d92e7822",
   "metadata": {
    "deletable": false,
    "tags": []
   },
   "outputs": [
    {
     "name": "stdout",
     "output_type": "stream",
     "text": [
      "Predicted vertical jump distance: 168.452347 centimeters\n"
     ]
    }
   ],
   "source": [
    "triple_record_vert_est = parameters.item(1) * (18.29 * 100) + parameters.item(2)\n",
    "print(\"Predicted vertical jump distance: {:f} centimeters\".format(triple_record_vert_est))"
   ]
  },
  {
   "cell_type": "code",
   "execution_count": 18,
   "id": "1b8b9135",
   "metadata": {
    "deletable": false,
    "editable": false
   },
   "outputs": [
    {
     "data": {
      "text/html": [
       "<p><strong><pre style='display: inline;'>q1_6</pre></strong> passed! 🍀</p><p><strong><pre style='display: inline;'>q1_6 - 1</pre> message:</strong> ✅ `triple_record_vert_est` is somwhat close to (and actually might be!) the correct answer</p>"
      ],
      "text/plain": [
       "q1_6 results: All test cases passed!\n",
       "q1_6 - 1 message: ✅ `triple_record_vert_est` is somwhat close to (and actually might be!) the correct answer"
      ]
     },
     "execution_count": 18,
     "metadata": {},
     "output_type": "execute_result"
    }
   ],
   "source": [
    "grader.check(\"q1_6\")"
   ]
  },
  {
   "cell_type": "markdown",
   "id": "a6eb6a1d",
   "metadata": {
    "deletable": false,
    "editable": false
   },
   "source": [
    "<!-- BEGIN QUESTION -->\n",
    "\n",
    "### Question 1.7.\n",
    "\n",
    "Do you think this model is reasonable to use to predict Edwards' vertical jump? Why or why not? Use specific characteristics of the `jumps` data, the regression line, and Johnathan Edwards' record setting jump to support your explanation."
   ]
  },
  {
   "cell_type": "markdown",
   "id": "ed243c0b",
   "metadata": {},
   "source": [
    "_This model may not be the most reasonable to use in order to predict Edwards' vertical jump because the way it sources data. It uses data from soccer players who are not training in the same way Edwards is. Thus it will be different. For example his record-setting jump is an extreme outlier and beyond the scope of the dataset, thus we can't assume the relationship continues _"
   ]
  },
  {
   "cell_type": "markdown",
   "id": "8546aa08",
   "metadata": {
    "deletable": false,
    "editable": false
   },
   "source": [
    "<!-- END QUESTION -->\n",
    "\n",
    "### Question 1.8.\n",
    "Suppose you want to go the other way and predict a triple jump distance given a vertical jump distance. Think about how the regression parameters would change from the model that predicts vertical jump distance from triple jump distance.\n",
    "\n",
    "Set `regression_changes` to an array of 3 elements, with each element corresponding to whether or not the corresponding item returned by `parameter_estimates` changes when switching vertical and triple as $x$ and $y$. For example, if $r$ changes, the slope changes, but the intercept wouldn't change, the `regression_changes` would be assigned to `make_array(True, True, False)`."
   ]
  },
  {
   "cell_type": "code",
   "execution_count": 21,
   "id": "02b18045",
   "metadata": {
    "tags": []
   },
   "outputs": [
    {
     "data": {
      "text/plain": [
       "array([0, 1, 1])"
      ]
     },
     "execution_count": 21,
     "metadata": {},
     "output_type": "execute_result"
    }
   ],
   "source": [
    "regression_changes =make_array(False, True, True)\n",
    "regression_changes"
   ]
  },
  {
   "cell_type": "code",
   "execution_count": 22,
   "id": "f2dee2de",
   "metadata": {
    "deletable": false,
    "editable": false
   },
   "outputs": [
    {
     "data": {
      "text/html": [
       "<p><strong><pre style='display: inline;'>q1_8</pre></strong> passed! 💯</p><p><strong><pre style='display: inline;'>q1_8 - 1</pre> message:</strong> ✅ `regression_changes` is an array with 3 elements</p><p><strong><pre style='display: inline;'>q1_8 - 2</pre> message:</strong> ✅ `regression_changes` only contains True and False values</p>"
      ],
      "text/plain": [
       "q1_8 results: All test cases passed!\n",
       "q1_8 - 1 message: ✅ `regression_changes` is an array with 3 elements\n",
       "q1_8 - 2 message: ✅ `regression_changes` only contains True and False values"
      ]
     },
     "execution_count": 22,
     "metadata": {},
     "output_type": "execute_result"
    }
   ],
   "source": [
    "grader.check(\"q1_8\")"
   ]
  },
  {
   "cell_type": "markdown",
   "id": "6d5ff73a",
   "metadata": {},
   "source": [
    "## 2. Cryptocurrencies"
   ]
  },
  {
   "cell_type": "markdown",
   "id": "93d14715",
   "metadata": {},
   "source": [
    "Imagine you're an investor in December 2017. Cryptocurrencies, online currencies backed by secure software, are becoming extremely valuable, and you want in on the action!\n",
    "\n",
    "The two most valuable cryptocurrencies are Bitcoin (BTC) and Ethereum (ETH). Each one has a dollar price attached to it at any given moment in time. For example, on December 1st, 2017, one BTC costs $\\$10,859.56$ and one ETH costs $\\$424.64.$\n",
    "\n",
    "For fun, here are the current prices of [Bitcoin](https://www.coinbase.com/price/bitcoin) and [Ethereum](https://www.coinbase.com/price/ethereum)!\n",
    "\n",
    "**You want to predict the price of ETH at some point in time based on the price of BTC.** Below, we load two [tables](https://www.kaggle.com/jessevent/all-crypto-currencies/data) called `btc` and `eth`. Each has 5 columns:\n",
    "* `date`, the date\n",
    "* `open`, the value of the currency at the beginning of the day\n",
    "* `close`, the value of the currency at the end of the day\n",
    "* `market`, the market cap or total dollar value invested in the currency\n",
    "* `day`, the number of days since the start of our data"
   ]
  },
  {
   "cell_type": "code",
   "execution_count": 23,
   "id": "cac6de3c",
   "metadata": {
    "ExecuteTime": {
     "end_time": "2018-04-04T09:57:46.445990Z",
     "start_time": "2018-04-04T09:57:46.433958Z"
    }
   },
   "outputs": [
    {
     "data": {
      "text/html": [
       "<table border=\"1\" class=\"dataframe\">\n",
       "    <thead>\n",
       "        <tr>\n",
       "            <th>date</th> <th>open</th> <th>close</th> <th>market</th> <th>day</th>\n",
       "        </tr>\n",
       "    </thead>\n",
       "    <tbody>\n",
       "        <tr>\n",
       "            <td>2015-09-29</td> <td>239.02</td> <td>236.69</td> <td>3505090000</td> <td>1   </td>\n",
       "        </tr>\n",
       "        <tr>\n",
       "            <td>2015-09-30</td> <td>236.64</td> <td>236.06</td> <td>3471280000</td> <td>2   </td>\n",
       "        </tr>\n",
       "        <tr>\n",
       "            <td>2015-10-01</td> <td>236   </td> <td>237.55</td> <td>3462800000</td> <td>3   </td>\n",
       "        </tr>\n",
       "        <tr>\n",
       "            <td>2015-10-02</td> <td>237.26</td> <td>237.29</td> <td>3482190000</td> <td>4   </td>\n",
       "        </tr>\n",
       "        <tr>\n",
       "            <td>2015-10-03</td> <td>237.2 </td> <td>238.73</td> <td>3482100000</td> <td>5   </td>\n",
       "        </tr>\n",
       "    </tbody>\n",
       "</table>\n",
       "<p>... (830 rows omitted)</p>"
      ],
      "text/plain": [
       "<IPython.core.display.HTML object>"
      ]
     },
     "metadata": {},
     "output_type": "display_data"
    }
   ],
   "source": [
    "btc = Table.read_table('btc.csv')\n",
    "btc.show(5)"
   ]
  },
  {
   "cell_type": "code",
   "execution_count": 24,
   "id": "bc74637e",
   "metadata": {
    "ExecuteTime": {
     "end_time": "2018-04-04T09:57:46.458022Z",
     "start_time": "2018-04-04T09:57:46.446994Z"
    }
   },
   "outputs": [
    {
     "data": {
      "text/html": [
       "<table border=\"1\" class=\"dataframe\">\n",
       "    <thead>\n",
       "        <tr>\n",
       "            <th>date</th> <th>open</th> <th>close</th> <th>market</th> <th>day</th>\n",
       "        </tr>\n",
       "    </thead>\n",
       "    <tbody>\n",
       "        <tr>\n",
       "            <td>2015-09-29</td> <td>0.579414</td> <td>0.661146</td> <td>42607700</td> <td>1   </td>\n",
       "        </tr>\n",
       "        <tr>\n",
       "            <td>2015-09-30</td> <td>0.661192</td> <td>0.738644</td> <td>48636600</td> <td>2   </td>\n",
       "        </tr>\n",
       "        <tr>\n",
       "            <td>2015-10-01</td> <td>0.734307</td> <td>0.690215</td> <td>54032300</td> <td>3   </td>\n",
       "        </tr>\n",
       "        <tr>\n",
       "            <td>2015-10-02</td> <td>0.683732</td> <td>0.678574</td> <td>50328700</td> <td>4   </td>\n",
       "        </tr>\n",
       "        <tr>\n",
       "            <td>2015-10-03</td> <td>0.678783</td> <td>0.687171</td> <td>49981900</td> <td>5   </td>\n",
       "        </tr>\n",
       "    </tbody>\n",
       "</table>\n",
       "<p>... (830 rows omitted)</p>"
      ],
      "text/plain": [
       "<IPython.core.display.HTML object>"
      ]
     },
     "metadata": {},
     "output_type": "display_data"
    }
   ],
   "source": [
    "eth = Table.read_table('eth.csv')\n",
    "eth.show(5)"
   ]
  },
  {
   "cell_type": "markdown",
   "id": "4029f93b",
   "metadata": {
    "deletable": false,
    "editable": false
   },
   "source": [
    "<!-- BEGIN QUESTION -->\n",
    "\n",
    "### Question 2.1.\n",
    "\n",
    "In the cell below, create a Table named `both` that contains the columns `\"day\"` and `\"open\"` from the `btc` Table, and the column `\"open\"` from the `eth` Table. Rename the `\"open\"` columns as \"btc open\" and \"eth open\" respectively. Then, use this Table to create an overlaid line plot that visualizes the BTC and ETH open prices versus the value in the `\"day\"` column. Both BTC and ETH open prices should be plotted on the same graph.\n",
    "\n",
    "*Hint*: [Section 7.3](https://inferentialthinking.com/chapters/07/3/Overlaid_Graphs.html#overlaid-line-plots) provides an example of creating an overlaid graph if you need a refresher."
   ]
  },
  {
   "cell_type": "code",
   "execution_count": 25,
   "id": "76684072",
   "metadata": {
    "deletable": false,
    "for_assignment_type": "student",
    "tags": []
   },
   "outputs": [
    {
     "data": {
      "image/png": "[encoded data removed]",
      "text/plain": [
       "<Figure size 600x600 with 1 Axes>"
      ]
     },
     "metadata": {},
     "output_type": "display_data"
    }
   ],
   "source": [
    "# Create a line plot of btc and eth open prices as a function of time\n",
    "both = btc.select(\"day\", \"open\").with_column(\"eth open\", eth.column(\"open\"))\n",
    "both = both.relabeled(\"open\", \"btc open\")\n",
    "both.plot(\"day\")"
   ]
  },
  {
   "cell_type": "markdown",
   "id": "32d6a9b7",
   "metadata": {
    "deletable": false,
    "editable": false
   },
   "source": [
    "<!-- END QUESTION -->\n",
    "\n",
    "### Question 2.2.\n",
    "\n",
    "Now, calculate the correlation coefficient between the opening prices of BTC and ETH from the `both` Table using the `correlation` function you defined earlier, and assign the value to `r`.\n"
   ]
  },
  {
   "cell_type": "code",
   "execution_count": 26,
   "id": "cad0b13a",
   "metadata": {
    "ExecuteTime": {
     "end_time": "2018-04-04T09:57:57.365938Z",
     "start_time": "2018-04-04T09:57:57.357879Z"
    },
    "deletable": false,
    "tags": []
   },
   "outputs": [
    {
     "data": {
      "text/plain": [
       "0.92503257641482783"
      ]
     },
     "execution_count": 26,
     "metadata": {},
     "output_type": "execute_result"
    }
   ],
   "source": [
    "r = correlation(both.column(\"btc open\"), both.column(\"eth open\"))\n",
    "r"
   ]
  },
  {
   "cell_type": "code",
   "execution_count": 27,
   "id": "6e62d351",
   "metadata": {
    "deletable": false,
    "editable": false
   },
   "outputs": [
    {
     "data": {
      "text/html": [
       "<p><strong><pre style='display: inline;'>q2_2</pre></strong> passed! 💯</p><p><strong><pre style='display: inline;'>q2_2 - 1</pre> message:</strong> ✅ `both` has exactly 3 columns</p><p><strong><pre style='display: inline;'>q2_2 - 2</pre> message:</strong> ✅ `both` has the correct labels for the 3 columns</p><p><strong><pre style='display: inline;'>q2_2 - 3</pre> message:</strong> ✅ `r` is between -1 and 1</p>"
      ],
      "text/plain": [
       "q2_2 results: All test cases passed!\n",
       "q2_2 - 1 message: ✅ `both` has exactly 3 columns\n",
       "q2_2 - 2 message: ✅ `both` has the correct labels for the 3 columns\n",
       "q2_2 - 3 message: ✅ `r` is between -1 and 1"
      ]
     },
     "execution_count": 27,
     "metadata": {},
     "output_type": "execute_result"
    }
   ],
   "source": [
    "grader.check(\"q2_2\")"
   ]
  },
  {
   "cell_type": "markdown",
   "id": "af9d4e26",
   "metadata": {
    "deletable": false,
    "editable": false
   },
   "source": [
    "### Question 2.3.\n",
    "\n",
    "Write a function `eth_predictor` which takes an opening BTC price and a Table with the BTC and ETH opening price information, and returns a prediction for the opening price of ETH. Use the function `parameter_estimates` that you defined earlier in this assignment to generate the necessary parameters for the predication.\n",
    "\n",
    "*Hint*: Recall that the Table passed to the `parameter_estimates` must have only 2 columns. Be sure to drop any unnecessary columns from the Table you pass to `eth_predictor` so when you use the `parameters` on the `price_table`, it only has the two columns required.\n",
    "\n",
    "*Note:* Make sure that your `eth_predictor` is using least squares linear regression.\n"
   ]
  },
  {
   "cell_type": "code",
   "execution_count": 28,
   "id": "2e59dc1a",
   "metadata": {
    "deletable": false,
    "tags": []
   },
   "outputs": [
    {
     "data": {
      "text/plain": [
       "2.6421542032063714"
      ]
     },
     "execution_count": 28,
     "metadata": {},
     "output_type": "execute_result"
    }
   ],
   "source": [
    "def eth_predictor(btc_price):\n",
    "    parameters = parameter_estimates(both.drop(\"day\"))\n",
    "    slope = parameters.item(1) \n",
    "    intercept = parameters.item(2) \n",
    "    return slope * btc_price + intercept\n",
    "\n",
    "eth_predictor(10)"
   ]
  },
  {
   "cell_type": "code",
   "execution_count": 29,
   "id": "56c46b26",
   "metadata": {
    "deletable": false,
    "editable": false
   },
   "outputs": [
    {
     "data": {
      "text/html": [
       "<p><strong><pre style='display: inline;'>q2_3</pre></strong> passed! 🙌</p><p><strong><pre style='display: inline;'>q2_3 - 1</pre> message:</strong> ✅ `eth_predictor` is making predictions that are close (and maybe exactly) what is expected</p>"
      ],
      "text/plain": [
       "q2_3 results: All test cases passed!\n",
       "q2_3 - 1 message: ✅ `eth_predictor` is making predictions that are close (and maybe exactly) what is expected"
      ]
     },
     "execution_count": 29,
     "metadata": {},
     "output_type": "execute_result"
    }
   ],
   "source": [
    "grader.check(\"q2_3\")"
   ]
  },
  {
   "cell_type": "markdown",
   "id": "534f7e8b",
   "metadata": {
    "deletable": false,
    "editable": false
   },
   "source": [
    "<!-- BEGIN QUESTION -->\n",
    "\n",
    "### Question 2.4.\n",
    "\n",
    "Now, using the `eth_predictor` function you just defined, create a Table, `eth_pred_actual` that contains 3 columns:\n",
    "* `\"btc open\"`: the BTC opening prices,\n",
    "* `\"predicted eth open\"`: the predicted ETH opening prices, and\n",
    "* `\"actual eth open\"`: the actual ETH opening prices.\n",
    "\n",
    "You can complete this process in several intermediate steps, as long as `eth_pred_actual` contains a Table with these exact column labels and corresponding values. You should use the `apply` method and the `eth_predictor` function to quickly compute the predicted values for ETH in the Table.\n",
    "\n",
    "Then, the provided code will make a scatter plot with BTC prices along the x-axis and both real and predicted ETH prices along the y-axis."
   ]
  },
  {
   "cell_type": "code",
   "execution_count": 34,
   "id": "986c93e2",
   "metadata": {
    "for_assignment_type": "solution",
    "tags": []
   },
   "outputs": [
    {
     "data": {
      "image/png": "[encoded data removed]",
      "text/plain": [
       "<Figure size 500x500 with 1 Axes>"
      ]
     },
     "metadata": {},
     "output_type": "display_data"
    }
   ],
   "source": [
    "btc_open = btc.column('open')\n",
    "eth_pred = btc.apply(eth_predictor, 'open')\n",
    "eth_pred_actual = Table().with_columns(\n",
    "    'btc open', btc_open,\n",
    "    'predicted eth open', eth_pred,\n",
    "    'actual eth open', both.column(\"eth open\")\n",
    ")\n",
    "eth_pred_actual.scatter('btc open')"
   ]
  },
  {
   "cell_type": "markdown",
   "id": "62e5d04f",
   "metadata": {
    "deletable": false,
    "editable": false
   },
   "source": [
    "<!-- END QUESTION -->\n",
    "\n",
    "<!-- BEGIN QUESTION -->\n",
    "\n",
    "### Question 2.5.\n",
    "\n",
    "Considering the shape of the scatter plot of the true data and the predicted values from the regression model, is the model we used reasonable? If so, what features or characteristics make this model reasonable? If not, what features or characteristics make it unreasonable?"
   ]
  },
  {
   "cell_type": "markdown",
   "id": "c78a4479",
   "metadata": {},
   "source": [
    "_The model we used is appropriate as there is a positive correlation between the actual price of ETH and the actual price of BTC. Therefore, a positive regression line can be used to predict the price of ETH based on the actual price of BTC._"
   ]
  },
  {
   "cell_type": "markdown",
   "id": "bc534ed0",
   "metadata": {
    "deletable": false,
    "editable": false
   },
   "source": [
    "<!-- END QUESTION -->\n",
    "\n",
    "## 3. Evaluating NBA Game Predictions"
   ]
  },
  {
   "cell_type": "markdown",
   "id": "11aa68b6",
   "metadata": {},
   "source": [
    "#### A Brief Introduction to Sports Betting\n",
    "\n",
    "In a basketball game, each team scores some number of points.  Conventionally, the team playing at its own arena is called the \"home team\", and their opponent is called the \"away team\".  The winner is the team with more points at the end of the game.\n",
    "\n",
    "We can summarize what happened in a game by the \"**outcome**\", defined as the **the away team's score minus the home team's score**:\n",
    "\n",
    "$$\\text{outcome} = \\text{points scored by the away team} - \\text{points scored by the home team}$$\n",
    "\n",
    "If this number is positive, the away team won.  If it's negative, the home team won. \n",
    "\n",
    "In order to facilitate betting on games, analysts at casinos try to predict the outcome of the game. This *prediction* of the outcome is called the **spread.**\n"
   ]
  },
  {
   "cell_type": "code",
   "execution_count": 35,
   "id": "9c0d16be",
   "metadata": {},
   "outputs": [
    {
     "data": {
      "text/html": [
       "<table border=\"1\" class=\"dataframe\">\n",
       "    <thead>\n",
       "        <tr>\n",
       "            <th>Date</th> <th>Home Team</th> <th>Away Team</th> <th>Home Points</th> <th>Away Points</th> <th>Outcome</th> <th>Spread</th>\n",
       "        </tr>\n",
       "    </thead>\n",
       "    <tbody>\n",
       "        <tr>\n",
       "            <td>4/10/2015 </td> <td>Utah         </td> <td>Memphis    </td> <td>88         </td> <td>89         </td> <td>1      </td> <td>2.5   </td>\n",
       "        </tr>\n",
       "        <tr>\n",
       "            <td>3/10/2015 </td> <td>Utah         </td> <td>New York   </td> <td>87         </td> <td>82         </td> <td>-5     </td> <td>-13   </td>\n",
       "        </tr>\n",
       "        <tr>\n",
       "            <td>11/19/2014</td> <td>Indiana      </td> <td>Charlotte  </td> <td>88         </td> <td>86         </td> <td>-2     </td> <td>-2    </td>\n",
       "        </tr>\n",
       "        <tr>\n",
       "            <td>11/15/2014</td> <td>Chicago      </td> <td>Indiana    </td> <td>90         </td> <td>99         </td> <td>9      </td> <td>-9    </td>\n",
       "        </tr>\n",
       "        <tr>\n",
       "            <td>3/25/2015 </td> <td>Utah         </td> <td>Portland   </td> <td>89         </td> <td>92         </td> <td>3      </td> <td>-2    </td>\n",
       "        </tr>\n",
       "        <tr>\n",
       "            <td>3/3/2015  </td> <td>Memphis      </td> <td>Utah       </td> <td>82         </td> <td>93         </td> <td>11     </td> <td>-7    </td>\n",
       "        </tr>\n",
       "        <tr>\n",
       "            <td>3/18/2015 </td> <td>Utah         </td> <td>Washington </td> <td>84         </td> <td>88         </td> <td>4      </td> <td>-3    </td>\n",
       "        </tr>\n",
       "        <tr>\n",
       "            <td>3/16/2015 </td> <td>Utah         </td> <td>Charlotte  </td> <td>94         </td> <td>66         </td> <td>-28    </td> <td>-4.5  </td>\n",
       "        </tr>\n",
       "        <tr>\n",
       "            <td>1/24/2015 </td> <td>Charlotte    </td> <td>New York   </td> <td>76         </td> <td>71         </td> <td>-5     </td> <td>-9    </td>\n",
       "        </tr>\n",
       "        <tr>\n",
       "            <td>11/7/2014 </td> <td>Oklahoma City</td> <td>Memphis    </td> <td>89         </td> <td>91         </td> <td>2      </td> <td>7     </td>\n",
       "        </tr>\n",
       "    </tbody>\n",
       "</table>\n",
       "<p>... (1220 rows omitted)</p>"
      ],
      "text/plain": [
       "Date       | Home Team     | Away Team   | Home Points | Away Points | Outcome | Spread\n",
       "4/10/2015  | Utah          | Memphis     | 88          | 89          | 1       | 2.5\n",
       "3/10/2015  | Utah          | New York    | 87          | 82          | -5      | -13\n",
       "11/19/2014 | Indiana       | Charlotte   | 88          | 86          | -2      | -2\n",
       "11/15/2014 | Chicago       | Indiana     | 90          | 99          | 9       | -9\n",
       "3/25/2015  | Utah          | Portland    | 89          | 92          | 3       | -2\n",
       "3/3/2015   | Memphis       | Utah        | 82          | 93          | 11      | -7\n",
       "3/18/2015  | Utah          | Washington  | 84          | 88          | 4       | -3\n",
       "3/16/2015  | Utah          | Charlotte   | 94          | 66          | -28     | -4.5\n",
       "1/24/2015  | Charlotte     | New York    | 76          | 71          | -5      | -9\n",
       "11/7/2014  | Oklahoma City | Memphis     | 89          | 91          | 2       | 7\n",
       "... (1220 rows omitted)"
      ]
     },
     "execution_count": 35,
     "metadata": {},
     "output_type": "execute_result"
    }
   ],
   "source": [
    "spreads = Table.read_table(\"spreads.csv\")\n",
    "spreads"
   ]
  },
  {
   "cell_type": "markdown",
   "id": "9e479cbb",
   "metadata": {},
   "source": [
    "Here's a scatter plot of the outcomes and spreads, with the spreads on the horizontal axis."
   ]
  },
  {
   "cell_type": "code",
   "execution_count": 36,
   "id": "4032284b",
   "metadata": {},
   "outputs": [
    {
     "data": {
      "image/png": "[encoded data removed]",
      "text/plain": [
       "<Figure size 500x500 with 1 Axes>"
      ]
     },
     "metadata": {},
     "output_type": "display_data"
    }
   ],
   "source": [
    "spreads.scatter(\"Spread\", \"Outcome\")"
   ]
  },
  {
   "cell_type": "markdown",
   "id": "4e7a8715",
   "metadata": {},
   "source": [
    "From the scatter plot, you can see that the spread and outcome are almost never 0, aside from one case of the spread being 0. This is because a game of basketball never ends in a tie. One team has to win, so the outcome can never be 0. The spread is almost never 0 because a spread is chosen to estimate the outcome of a game, and since a tie is not possible no one would predict a tie as the final outcome."
   ]
  },
  {
   "cell_type": "markdown",
   "id": "2f3e1ef7",
   "metadata": {},
   "source": [
    "Let's investigate how well the casinos are predicting game outcomes.\n",
    "\n",
    "One question we can ask is: Is the casino's prediction correct on average? In other words, for every value of the spread, is the average outcome of games assigned that spread equal to the spread? If not, the casino would apparently be making a systematic error in its predictions."
   ]
  },
  {
   "cell_type": "markdown",
   "id": "45b69f1c",
   "metadata": {
    "deletable": false,
    "editable": false
   },
   "source": [
    "### Question 3.1.\n",
    "\n",
    "Let's see how good the casinos are at predicting the outcomes. Among games with a spread between 3.5 and 6.5 (including both 3.5 and 6.5), what was the average outcome?"
   ]
  },
  {
   "cell_type": "code",
   "execution_count": 44,
   "id": "380ff4c7",
   "metadata": {
    "deletable": false,
    "tags": []
   },
   "outputs": [
    {
     "name": "stdout",
     "output_type": "stream",
     "text": [
      "Average outcome for spreads around 5: 4.99411764706\n"
     ]
    }
   ],
   "source": [
    "spreads_around_5 = spreads.where('Spread', are.between_or_equal_to(3.5,6.5))\n",
    "spread_5_outcome_average = np.average((spreads_around_5).column('Outcome'))\n",
    "print(\"Average outcome for spreads around 5:\", spread_5_outcome_average)"
   ]
  },
  {
   "cell_type": "code",
   "execution_count": 45,
   "id": "57d73a5c",
   "metadata": {
    "deletable": false,
    "editable": false
   },
   "outputs": [
    {
     "data": {
      "text/html": [
       "<p><strong><pre style='display: inline;'>q3_1</pre></strong> passed! 🌈</p><p><strong><pre style='display: inline;'>q3_1 - 1</pre> message:</strong> ✅ `spread_5_outcome_average` is close to (and might be exactly) the expected outcome average</p>"
      ],
      "text/plain": [
       "q3_1 results: All test cases passed!\n",
       "q3_1 - 1 message: ✅ `spread_5_outcome_average` is close to (and might be exactly) the expected outcome average"
      ]
     },
     "execution_count": 45,
     "metadata": {},
     "output_type": "execute_result"
    }
   ],
   "source": [
    "grader.check(\"q3_1\")"
   ]
  },
  {
   "cell_type": "markdown",
   "id": "b669cffd",
   "metadata": {
    "deletable": false,
    "editable": false
   },
   "source": [
    "### Question 3.2.\n",
    "\n",
    "Suppose you think there is a linear relationship between outcomes and spreads. Compute the correlation coefficient between these variables.\n",
    "\n",
    "*Note:* It might be helpful to use the `correlation` function."
   ]
  },
  {
   "cell_type": "code",
   "execution_count": 46,
   "id": "de6822f3",
   "metadata": {
    "deletable": false,
    "tags": []
   },
   "outputs": [
    {
     "data": {
      "text/plain": [
       "0.49181413688314235"
      ]
     },
     "execution_count": 46,
     "metadata": {},
     "output_type": "execute_result"
    }
   ],
   "source": [
    "spread_r = correlation(spreads.column(\"Spread\"), spreads.column(\"Outcome\"))\n",
    "spread_r"
   ]
  },
  {
   "cell_type": "code",
   "execution_count": 47,
   "id": "f635274a",
   "metadata": {
    "deletable": false,
    "editable": false
   },
   "outputs": [
    {
     "data": {
      "text/html": [
       "<p><strong><pre style='display: inline;'>q3_2</pre></strong> passed! 🌈</p><p><strong><pre style='display: inline;'>q3_2 - 1</pre> message:</strong> ✅ `spread_r` is close to (and might be exactly) the expected correlation coefficient</p>"
      ],
      "text/plain": [
       "q3_2 results: All test cases passed!\n",
       "q3_2 - 1 message: ✅ `spread_r` is close to (and might be exactly) the expected correlation coefficient"
      ]
     },
     "execution_count": 47,
     "metadata": {},
     "output_type": "execute_result"
    }
   ],
   "source": [
    "grader.check(\"q3_2\")"
   ]
  },
  {
   "cell_type": "markdown",
   "id": "fea658ce",
   "metadata": {
    "deletable": false,
    "editable": false
   },
   "source": [
    "### Question 3.3.\n",
    "\n",
    "Use the function `parameter_estimates` that you defined earlier to compute the slope and intercept of the least-squares linear regression line that predicts outcomes from spreads, in original units. \n",
    "\n",
    "The provided code will generate a two column Table for you named `compute_tbl` with the first column representing `Spread` (x) and the second column representing `Outcome` (y). You should use this Table as an input to the `parameter_estimates` function."
   ]
  },
  {
   "cell_type": "code",
   "execution_count": 48,
   "id": "c129ea7b",
   "metadata": {
    "deletable": false,
    "tags": []
   },
   "outputs": [
    {
     "name": "stdout",
     "output_type": "stream",
     "text": [
      "Slope: 0.954\n",
      "Intercept 0.22\n"
     ]
    }
   ],
   "source": [
    "compute_tbl = spreads.select('Spread', 'Outcome')\n",
    "estimates = parameter_estimates(compute_tbl)\n",
    "spread_slope = estimates.item(1)\n",
    "spread_intercept = estimates.item(2)\n",
    "print(\"Slope:\", round(spread_slope, 3))\n",
    "print(\"Intercept\", round(spread_intercept, 3))"
   ]
  },
  {
   "cell_type": "code",
   "execution_count": 49,
   "id": "99cd56c3",
   "metadata": {
    "deletable": false,
    "editable": false
   },
   "outputs": [
    {
     "data": {
      "text/html": [
       "<p><strong><pre style='display: inline;'>q3_3</pre></strong> passed! 🚀</p><p><strong><pre style='display: inline;'>q3_3 - 1</pre> message:</strong> ✅ `spread_slope` is close to (and might be exactly) the expected slope</p><p><strong><pre style='display: inline;'>q3_3 - 2</pre> message:</strong> ✅ `spread_intercept` is close to (and might be exactly) the expected intercept</p>"
      ],
      "text/plain": [
       "q3_3 results: All test cases passed!\n",
       "q3_3 - 1 message: ✅ `spread_slope` is close to (and might be exactly) the expected slope\n",
       "q3_3 - 2 message: ✅ `spread_intercept` is close to (and might be exactly) the expected intercept"
      ]
     },
     "execution_count": 49,
     "metadata": {},
     "output_type": "execute_result"
    }
   ],
   "source": [
    "grader.check(\"q3_3\")"
   ]
  },
  {
   "cell_type": "markdown",
   "id": "59320aa9",
   "metadata": {
    "deletable": false,
    "editable": false
   },
   "source": [
    "### Question 3.4.\n",
    "\n",
    "Define a function called `errors`.  It should take three arguments:\n",
    "1. a table `tbl` that's formatted like `spreads`. You can assume it will have the same column names and meanings, but not necessarily the same data.\n",
    "2. the `slope` of a line (a number)\n",
    "3. the `intercept` of a line (a number).\n",
    "\n",
    "It should **return an array of the errors** made when a line with that slope and intercept is used to predict outcome from spread for each game in the given table.\n",
    "\n",
    "*Hint*: Use array operations with the `slope` and `predictions` to quickly make predictions for all the outcomes, and to then compute the errors that you'll return."
   ]
  },
  {
   "cell_type": "code",
   "execution_count": 50,
   "id": "4a45493f",
   "metadata": {
    "tags": []
   },
   "outputs": [],
   "source": [
    "def errors(tbl, slope, intercept):\n",
    "    predictions = tbl.column('Spread') * slope + intercept\n",
    "    errors = tbl.column('Outcome') - predictions\n",
    "    return errors"
   ]
  },
  {
   "cell_type": "code",
   "execution_count": 51,
   "id": "2b5c3bde",
   "metadata": {
    "deletable": false,
    "editable": false
   },
   "outputs": [
    {
     "data": {
      "text/html": [
       "<p><strong><pre style='display: inline;'>q3_4</pre></strong> passed! 🎉</p><p><strong><pre style='display: inline;'>q3_4 - 1</pre> message:</strong> ✅ `errors` returns an array</p><p><strong><pre style='display: inline;'>q3_4 - 2</pre> message:</strong> ✅ `errors` returns the correct number of errors, 1230</p><p><strong><pre style='display: inline;'>q3_4 - 3</pre> message:</strong> ✅ `errors` returns an array of numerical values</p>"
      ],
      "text/plain": [
       "q3_4 results: All test cases passed!\n",
       "q3_4 - 1 message: ✅ `errors` returns an array\n",
       "q3_4 - 2 message: ✅ `errors` returns the correct number of errors, 1230\n",
       "q3_4 - 3 message: ✅ `errors` returns an array of numerical values"
      ]
     },
     "execution_count": 51,
     "metadata": {},
     "output_type": "execute_result"
    }
   ],
   "source": [
    "grader.check(\"q3_4\")"
   ]
  },
  {
   "cell_type": "markdown",
   "id": "b82bd965",
   "metadata": {
    "deletable": false,
    "editable": false
   },
   "source": [
    "<!-- BEGIN QUESTION -->\n",
    "\n",
    "### Question 3.5.\n",
    "\n",
    "Using `errors`, compute the errors when using the slope and intercept for the least squares regression line on the `spreads` dataset. Name that array `outcome_errors`.  Then, make a scatter plot of the errors. \n",
    "\n",
    "*Hint:* To make a scatter plot of the errors, plot the error for each predicted outcome in the dataset.  Put the actual spread on the horizontal axis and the outcome error on the vertical axis."
   ]
  },
  {
   "cell_type": "code",
   "execution_count": 55,
   "id": "eeac05ef",
   "metadata": {
    "tags": []
   },
   "outputs": [
    {
     "data": {
      "image/png": "[encoded data removed]",
      "text/plain": [
       "<Figure size 640x480 with 1 Axes>"
      ]
     },
     "metadata": {},
     "output_type": "display_data"
    }
   ],
   "source": [
    "outcome_errors = errors(spreads, spread_slope, spread_intercept)\n",
    "spreads_values = spreads.column('Spread')\n",
    "plt.scatter(spreads_values, outcome_errors)\n",
    "plt.xlabel('Spread')\n",
    "plt.ylabel('Outcome Errors')\n",
    "plt.title('Scatter Plot of Outcome Errors vs Spread')\n",
    "plt.grid(True)\n",
    "plt.show()\n"
   ]
  },
  {
   "cell_type": "markdown",
   "id": "bf70d672",
   "metadata": {
    "deletable": false,
    "editable": false
   },
   "source": [
    "<!-- END QUESTION -->\n",
    "\n",
    "<!-- BEGIN QUESTION -->\n",
    "\n",
    "### Question 3.6.\n",
    "\n",
    "What does the scatterplot of errors, also known as a residual plot, from the previous question indicate about the model's ability to make predictions on the outcome of a game using the spreads generated by the casino? Are there any patterns in the residual plot that would indicate the model is performing better or worse at predicting outcomes for certain spreads? Cite specific evidence from the scatter plot in your response."
   ]
  },
  {
   "cell_type": "markdown",
   "id": "585852d9",
   "metadata": {},
   "source": [
    "_Type your answer here, replacing this text._"
   ]
  },
  {
   "cell_type": "markdown",
   "id": "5d592ffc-3c04-4e18-bfc9-d20376fbc1ec",
   "metadata": {
    "deletable": false,
    "editable": false
   },
   "source": [
    "<!-- END QUESTION -->\n",
    "\n",
    "# Submitting your work\n",
    "You're done with this assignment! Assignments should be turned in using the following best practices:\n",
    "1. Save your notebook.\n",
    "2. Restart the kernel and run all cells up to this one.\n",
    "3. Run the cell below with the code `grader.export(...)`. This will re-run all the tests. Make sure they are passing as you expect them to.\n",
    "4. Download the file named `hw08_<date-time-stamp>.zip`, found in the explorer pane on the left side of the screen. **Note**: Clicking on the link in this notebook may result in an error, it's best to download from the file explorer panel.\n",
    "5. Upload `hw08_<date-time-stamp>.zip` to the corresponding assignment on Canvas."
   ]
  },
  {
   "cell_type": "markdown",
   "id": "dc727637",
   "metadata": {
    "deletable": false,
    "editable": false
   },
   "source": [
    "## Submission\n",
    "\n",
    "Make sure you have run all cells in your notebook in order before running the cell below, so that all images/graphs appear in the output. The cell below will generate a zip file for you to submit."
   ]
  },
  {
   "cell_type": "code",
   "execution_count": null,
   "id": "7730dac8",
   "metadata": {
    "deletable": false,
    "editable": false
   },
   "outputs": [],
   "source": [
    "grader.export(pdf=False, force_save=True)"
   ]
  },
  {
   "cell_type": "markdown",
   "id": "c104e2bc",
   "metadata": {},
   "source": [
    " "
   ]
  }
 ],
 "metadata": {
  "kernelspec": {
   "display_name": "Python 3 (ipykernel)",
   "language": "python",
   "name": "python3"
  },
  "language_info": {
   "codemirror_mode": {
    "name": "ipython",
    "version": 3
   },
   "file_extension": ".py",
   "mimetype": "text/x-python",
   "name": "python",
   "nbconvert_exporter": "python",
   "pygments_lexer": "ipython3",
   "version": "3.11.5"
  },
  "otter": {
   "OK_FORMAT": true,
   "tests": {
    "q1_1": {
     "name": "q1_1",
     "points": null,
     "suites": [
      {
       "cases": [
        {
         "code": ">>> np.isclose(np.mean(standard_units([1, 2, 3, 4, 5])), 0)\nTrue",
         "failure_message": "❌ `standard_units` does not return an array with a mean of 0",
         "hidden": false,
         "locked": false,
         "points": 0,
         "success_message": "✅ `standard_units` returns an array with a mean of 0"
        },
        {
         "code": ">>> np.isclose(np.std(standard_units([1, 2, 3, 4, 5])), 1)\nTrue",
         "failure_message": "❌ `standard_units` does not return an array with a standard deviation of 1",
         "hidden": false,
         "locked": false,
         "points": 0,
         "success_message": "✅ `standard_units` returns an array with a standard deviation of 1"
        },
        {
         "code": ">>> np.allclose(standard_units([1, 2, 3, 4, 5]), np.array([-1.41421356, -0.70710678, 0.0, 0.70710678, 1.41421356]))\nTrue",
         "failure_message": "❌ `standard_units` does not correct values for the array [1,2,3,4,5]",
         "hidden": false,
         "locked": false,
         "points": 0,
         "success_message": "✅ `standard_units` returns correct values for the array [1,2,3,4,5]"
        }
       ],
       "scored": true,
       "setup": "",
       "teardown": "",
       "type": "doctest"
      }
     ]
    },
    "q1_2": {
     "name": "q1_2",
     "points": null,
     "suites": [
      {
       "cases": [
        {
         "code": ">>> np.isclose(correlation([1, 2, 3], [4, 5, 6]), 1)\nTrue",
         "failure_message": "❌ `correlation` does not return a correct value for the first test case",
         "hidden": false,
         "locked": false,
         "points": 0,
         "success_message": "✅ `correlation` returns a correct value for the first test case"
        },
        {
         "code": ">>> np.isclose(correlation([0, 2, -3], [2, 1, -10]), 0.8852325815216111)\nTrue",
         "failure_message": "❌ `correlation` does not return a correct value for the second test case",
         "hidden": false,
         "locked": false,
         "points": 0,
         "success_message": "✅ `correlation` returns a correct value for the second test case"
        }
       ],
       "scored": true,
       "setup": "",
       "teardown": "",
       "type": "doctest"
      }
     ]
    },
    "q1_5": {
     "name": "q1_5",
     "points": null,
     "suites": [
      {
       "cases": [
        {
         "code": ">>> type(parameters) == np.ndarray\nTrue",
         "failure_message": "❌ `parameters` is not an array. Did you change some of the starter code?",
         "hidden": false,
         "locked": false,
         "points": 0,
         "success_message": "✅ `parameters` is an array"
        },
        {
         "code": ">>> len(parameters) == 3\nTrue",
         "failure_message": "❌ `parameters` does not contain all 3 elements. Did you change some of the starter code?",
         "hidden": false,
         "locked": false,
         "points": 0,
         "success_message": "✅ `parameters` contains all 3 elements"
        },
        {
         "code": ">>> np.isclose(parameters.item(0), 0.8343076972837598)\nTrue",
         "failure_message": "❌ `parameters` is not computing the correlation cofficient correctly",
         "hidden": false,
         "locked": false,
         "points": 0,
         "success_message": "✅ `parameters` is computing the correlation coefficient correctly"
        }
       ],
       "scored": true,
       "setup": "",
       "teardown": "",
       "type": "doctest"
      }
     ]
    },
    "q1_6": {
     "name": "q1_6",
     "points": null,
     "suites": [
      {
       "cases": [
        {
         "code": ">>> 100 <= triple_record_vert_est <= 200\nTrue",
         "failure_message": "❌ `triple_record_vert_est` is not close to the actual answer. Make sure you are using correct units throughout",
         "hidden": false,
         "locked": false,
         "points": 0,
         "success_message": "✅ `triple_record_vert_est` is somwhat close to (and actually might be!) the correct answer"
        },
        {
         "code": ">>> np.isclose(triple_record_vert_est, 168.45234708280438)\nTrue",
         "hidden": false,
         "locked": false,
         "points": 1
        }
       ],
       "scored": true,
       "setup": "",
       "teardown": "",
       "type": "doctest"
      }
     ]
    },
    "q1_8": {
     "name": "q1_8",
     "points": null,
     "suites": [
      {
       "cases": [
        {
         "code": ">>> len(regression_changes) == 3 and type(regression_changes) == np.ndarray\nTrue",
         "failure_message": "❌ `regression_changes` is not an array or does not have 3 elements",
         "hidden": false,
         "locked": false,
         "points": 0,
         "success_message": "✅ `regression_changes` is an array with 3 elements"
        },
        {
         "code": ">>> set(regression_changes).issubset(set([0, 1, False, True]))\nTrue",
         "failure_message": "❌ `regression_changes` contains at least one value that is not a True or False",
         "hidden": false,
         "locked": false,
         "points": 0,
         "success_message": "✅ `regression_changes` only contains True and False values"
        },
        {
         "code": ">>> np.all(regression_changes == make_array(False, True, True))\nTrue",
         "hidden": false,
         "locked": false,
         "points": 1
        }
       ],
       "scored": true,
       "setup": "",
       "teardown": "",
       "type": "doctest"
      }
     ]
    },
    "q2_2": {
     "name": "q2_2",
     "points": null,
     "suites": [
      {
       "cases": [
        {
         "code": ">>> both.num_columns == 3\nTrue",
         "failure_message": "❌ `both` does not have exactly 3 columns",
         "hidden": false,
         "locked": false,
         "points": 0,
         "success_message": "✅ `both` has exactly 3 columns"
        },
        {
         "code": ">>> sorted(both.labels) == sorted(('day', 'btc open', 'eth open'))\nTrue",
         "failure_message": "❌ `both` does not have the correct labels, 'day', 'btc open', and 'eth open'. Check spelling and capitalization",
         "hidden": false,
         "locked": false,
         "points": 0,
         "success_message": "✅ `both` has the correct labels for the 3 columns"
        },
        {
         "code": ">>> -1 <= r <= 1\nTrue",
         "failure_message": "❌ `r` is not between -1 and 1, check that you've implemented the `standard_units` and `correlation` function correctly.",
         "hidden": false,
         "locked": false,
         "points": 0,
         "success_message": "✅ `r` is between -1 and 1"
        }
       ],
       "scored": true,
       "setup": "",
       "teardown": "",
       "type": "doctest"
      }
     ]
    },
    "q2_3": {
     "name": "q2_3",
     "points": null,
     "suites": [
      {
       "cases": [
        {
         "code": ">>> 0 < eth_predictor(10) < 10 and 0 < eth_predictor(200) < 20\nTrue",
         "failure_message": "❌ `eth_predictor` is making predictions that are too far off to be correct",
         "hidden": false,
         "locked": false,
         "points": 0,
         "success_message": "✅ `eth_predictor` is making predictions that are close (and maybe exactly) what is expected"
        },
        {
         "code": ">>> np.allclose(eth_predictor(np.arange(10, 100, 10)), [2.6421542, 3.14586935, 3.6495845, 4.15329964, 4.65701479, 5.16072993, 5.66444508, 6.16816023, 6.67187537])\nTrue",
         "hidden": false,
         "locked": false,
         "points": 1
        }
       ],
       "scored": true,
       "setup": "",
       "teardown": "",
       "type": "doctest"
      }
     ]
    },
    "q3_1": {
     "name": "q3_1",
     "points": null,
     "suites": [
      {
       "cases": [
        {
         "code": ">>> 4 <= spread_5_outcome_average <= 6\nTrue",
         "failure_message": "❌ `spread_5_outcome_average` is too far off from the expected average outcome to be correct",
         "hidden": false,
         "locked": false,
         "points": 0,
         "success_message": "✅ `spread_5_outcome_average` is close to (and might be exactly) the expected outcome average"
        },
        {
         "code": ">>> np.isclose(spread_5_outcome_average, 4.99411764706)\nTrue",
         "hidden": false,
         "locked": false,
         "points": 1
        }
       ],
       "scored": true,
       "setup": "",
       "teardown": "",
       "type": "doctest"
      }
     ]
    },
    "q3_2": {
     "name": "q3_2",
     "points": null,
     "suites": [
      {
       "cases": [
        {
         "code": ">>> 0.25 <= spread_r <= 0.75\nTrue",
         "failure_message": "❌ `spread_r` is too far off from the expected correlation coefficient to be correct",
         "hidden": false,
         "locked": false,
         "points": 0,
         "success_message": "✅ `spread_r` is close to (and might be exactly) the expected correlation coefficient"
        },
        {
         "code": ">>> np.isclose(spread_r, 0.49181413688314235)\nTrue",
         "hidden": false,
         "locked": false,
         "points": 1
        }
       ],
       "scored": true,
       "setup": "",
       "teardown": "",
       "type": "doctest"
      }
     ]
    },
    "q3_3": {
     "name": "q3_3",
     "points": null,
     "suites": [
      {
       "cases": [
        {
         "code": ">>> 0 <= spread_slope < 1\nTrue",
         "failure_message": "❌ `spread_slope` is too far off from the expected slope to be correct",
         "hidden": false,
         "locked": false,
         "points": 0,
         "success_message": "✅ `spread_slope` is close to (and might be exactly) the expected slope"
        },
        {
         "code": ">>> 0 <= spread_intercept < 0.5\nTrue",
         "failure_message": "❌ `spread_intercept` is too far off from the expected intercept to be correct",
         "hidden": false,
         "locked": false,
         "points": 0,
         "success_message": "✅ `spread_intercept` is close to (and might be exactly) the expected intercept"
        }
       ],
       "scored": true,
       "setup": "",
       "teardown": "",
       "type": "doctest"
      }
     ]
    },
    "q3_4": {
     "name": "q3_4",
     "points": null,
     "suites": [
      {
       "cases": [
        {
         "code": ">>> type(errors(spreads, 0, 0)) == np.ndarray\nTrue",
         "failure_message": "❌ `errors` does not return an array",
         "hidden": false,
         "locked": false,
         "points": 0,
         "success_message": "✅ `errors` returns an array"
        },
        {
         "code": ">>> len(errors(spreads, 0, 0)) == 1230\nTrue",
         "failure_message": "❌ `errors` does not return 1230 errors as it should be",
         "hidden": false,
         "locked": false,
         "points": 0,
         "success_message": "✅ `errors` returns the correct number of errors, 1230"
        },
        {
         "code": ">>> type(errors(spreads, 0, 0).item(0)) in set([float, np.float32, np.float64])\nTrue",
         "failure_message": "❌ `errors` returns an array, but not of numerical values",
         "hidden": false,
         "locked": false,
         "points": 0,
         "success_message": "✅ `errors` returns an array of numerical values"
        }
       ],
       "scored": true,
       "setup": "",
       "teardown": "",
       "type": "doctest"
      }
     ]
    }
   }
  }
 },
 "nbformat": 4,
 "nbformat_minor": 5
}
